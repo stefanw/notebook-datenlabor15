{
 "cells": [
  {
   "cell_type": "code",
   "execution_count": null,
   "metadata": {
    "collapsed": false
   },
   "outputs": [],
   "source": [
    "from pandas import DataFrame, Series\n",
    "import pandas as pd\n",
    "pd.options.display.max_columns = 100\n",
    "\n",
    "import matplotlib\n",
    "import matplotlib.pyplot as plt\n",
    "%matplotlib inline\n",
    "matplotlib.rcParams['svg.fonttype'] = 'none'"
   ]
  },
  {
   "cell_type": "code",
   "execution_count": null,
   "metadata": {
    "collapsed": false
   },
   "outputs": [],
   "source": [
    "filename_2013 = 'data/Krankenhausverzeichnis_31_12_2013.xlsx'\n",
    "\n",
    "xl_file_2013 = pd.ExcelFile(filename_2013)\n",
    "df = xl_file_2013.parse('KHV_2013', skiprows=4)\n",
    "df.head()"
   ]
  },
  {
   "cell_type": "markdown",
   "metadata": {},
   "source": [
    "## Wieviele unterschiedliche psychiatrische Bettentypen gibt es?"
   ]
  },
  {
   "cell_type": "code",
   "execution_count": null,
   "metadata": {
    "collapsed": false
   },
   "outputs": [],
   "source": [
    "# Spalten an denen wir interessiert sind\n",
    "columns = ['Kinderpsychiat', 'Psychiat', 'Psychiat_Sucht', 'Psychotherapeut']\n",
    "\n",
    "# Konvertierung nach numerisch, fehlende Werte werden 0\n",
    "df[columns] = df[columns].convert_objects(convert_numeric=True).fillna(0) \n",
    "df[columns].sum()"
   ]
  },
  {
   "cell_type": "markdown",
   "metadata": {},
   "source": [
    "## Was sind die Top 10 Einrichtungen mit den meisten psychiatrischen Betten?"
   ]
  },
  {
   "cell_type": "code",
   "execution_count": null,
   "metadata": {
    "collapsed": false
   },
   "outputs": [],
   "source": [
    "# Summe über andere Achse\n",
    "df['psych_summe'] = df[columns].sum(axis=1)\n",
    "df['psych_summe']"
   ]
  },
  {
   "cell_type": "code",
   "execution_count": null,
   "metadata": {
    "collapsed": false
   },
   "outputs": [],
   "source": [
    "df.psych_summe.describe()"
   ]
  },
  {
   "cell_type": "code",
   "execution_count": null,
   "metadata": {
    "collapsed": false
   },
   "outputs": [],
   "source": [
    "df.sort_index(by='psych_summe', ascending=False).head(10)"
   ]
  },
  {
   "cell_type": "markdown",
   "metadata": {},
   "source": [
    "## Welcher Kreis hat die meisten psychiatrischen Betten pro Einwohner?\n",
    "\n",
    "Erst einmal Daten besorgen: https://www.destatis.de/DE/ZahlenFakten/GesellschaftStaat/Bevoelkerung/Bevoelkerungsstand/Bevoelkerungsstand.html#Tabellen"
   ]
  },
  {
   "cell_type": "code",
   "execution_count": null,
   "metadata": {
    "collapsed": false
   },
   "outputs": [],
   "source": [
    "population = pd.read_csv('data/12411-0014.csv', skiprows=5, skipfooter=5, delimiter=';', encoding='latin-1')\n",
    "population.head()"
   ]
  },
  {
   "cell_type": "code",
   "execution_count": null,
   "metadata": {
    "collapsed": false
   },
   "outputs": [],
   "source": [
    "# Umbenennen von Spalten\n",
    "population.rename(columns={'Unnamed: 0': 'AGS', 'Unnamed: 1': 'Kreisname'}, inplace=True)\n",
    "years = list(range(1996, 2015))\n",
    "year_renames = {'31.12.%d' % (year - 1): year for year in years}\n",
    "population.rename(columns=year_renames, inplace=True)\n",
    "\n",
    "# Konvertieren nach numerisch\n",
    "population[years] = population[years].convert_objects(convert_numeric=True)\n",
    "population.head()"
   ]
  },
  {
   "cell_type": "markdown",
   "metadata": {},
   "source": [
    "Wie führt man die psychiatrischen Betten und die Bevölkerungszahlen zusammen?\n",
    "Mit dem Amtlischen Gemeindeschlüssel: https://de.wikipedia.org/wiki/Amtlicher_Gemeindeschl%C3%BCssel"
   ]
  },
  {
   "cell_type": "code",
   "execution_count": null,
   "metadata": {
    "collapsed": false
   },
   "outputs": [],
   "source": [
    "population['AGS'] = population['AGS'].apply(lambda x: '{:0>5d}'.format(x))\n",
    "population = population.set_index('AGS')\n",
    "\n",
    "pop2013 = population[[2013]]\n",
    "pop2013.head()"
   ]
  },
  {
   "cell_type": "markdown",
   "metadata": {},
   "source": [
    "Wo ist der AGS bei unseren psychiatrischen Betten?"
   ]
  },
  {
   "cell_type": "code",
   "execution_count": null,
   "metadata": {
    "collapsed": false
   },
   "outputs": [],
   "source": [
    "df.head(1)"
   ]
  },
  {
   "cell_type": "code",
   "execution_count": null,
   "metadata": {
    "collapsed": false
   },
   "outputs": [],
   "source": [
    "def make_ags(x):\n",
    "    return '{:0>2d}{:0>3d}'.format(x.Land, 0 if x.Land == 11 else x.Kreis)\n",
    "\n",
    "df['AGS'] = df.apply(make_ags, axis=1)\n",
    "df.head(1)"
   ]
  },
  {
   "cell_type": "code",
   "execution_count": null,
   "metadata": {
    "collapsed": false
   },
   "outputs": [],
   "source": [
    "df = df.merge(pop2013.reset_index(), on='AGS')\n",
    "df.head()"
   ]
  },
  {
   "cell_type": "code",
   "execution_count": null,
   "metadata": {
    "collapsed": false
   },
   "outputs": [],
   "source": [
    "PER_POPULATION = 100000\n",
    "df['psych_pro_einwohner'] = df['psych_summe'] / df[2013] * PER_POPULATION\n",
    "df['psych_pro_einwohner']"
   ]
  },
  {
   "cell_type": "code",
   "execution_count": null,
   "metadata": {
    "collapsed": false
   },
   "outputs": [],
   "source": [
    "df.psych_pro_einwohner.describe()"
   ]
  },
  {
   "cell_type": "code",
   "execution_count": null,
   "metadata": {
    "collapsed": false
   },
   "outputs": [],
   "source": [
    "df.sort_index(by='psych_pro_einwohner', ascending=False).head(10)"
   ]
  },
  {
   "cell_type": "markdown",
   "metadata": {},
   "source": [
    "Bei Kreisen sollte man den geographischen Kontext kennen."
   ]
  },
  {
   "cell_type": "code",
   "execution_count": null,
   "metadata": {
    "collapsed": false
   },
   "outputs": [],
   "source": [
    "import folium\n",
    "\n",
    "\n",
    "geo_path = 'data/kreise.topo.json'\n",
    "key = 'psych_pro_einwohner'\n",
    "\n",
    "geo_data = df.copy()\n",
    "geo_data = geo_data[geo_data[key] != 0]\n",
    "\n",
    "min_val = geo_data[key].min()\n",
    "q0 = geo_data[key].quantile( .05)\n",
    "q1 = geo_data[key].quantile( .25)\n",
    "q2 = geo_data[key].quantile( .5)\n",
    "q3 = geo_data[key].quantile( .75)\n",
    "max_val = geo_data[key].max()\n",
    "\n",
    "SCALE_COUNT = 5\n",
    "scale = list(geo_data[key].quantile([x / SCALE_COUNT for x in range(SCALE_COUNT)]).values)\n",
    "scale = [min_val, q1, q2, q3, max_val]\n",
    "\n",
    "m = folium.Map(location=[52, 10], zoom_start=6, height=800)\n",
    "m.geo_json(geo_path=geo_path, data=geo_data, data_out='%s_map.json' % key,\n",
    "             columns=['AGS', key],\n",
    "             threshold_scale=scale,\n",
    "             key_on='feature.properties.AGS',\n",
    "             fill_color='YlOrRd', fill_opacity=0.7, line_opacity=0.3,\n",
    "             legend_name='Betten per 100 000',\n",
    "             topojson='objects.kreise'\n",
    ")\n",
    "m.create_map(path='map.html')\n",
    "m"
   ]
  },
  {
   "cell_type": "markdown",
   "metadata": {},
   "source": [
    "## Wie ist das Verhältnis zwischen der Anzahl der psychiatrischen Betten und Gesamtbetten?"
   ]
  },
  {
   "cell_type": "code",
   "execution_count": null,
   "metadata": {
    "collapsed": false
   },
   "outputs": [],
   "source": [
    "df.Betten_Ins = df.Betten_Ins.convert_objects(convert_numeric=True)\n",
    "plt.scatter(df.Betten_Ins, df.psych_summe)"
   ]
  },
  {
   "cell_type": "markdown",
   "metadata": {},
   "source": [
    "## Wo ist der Anteil an psychiatrischen an allen Betten am höchsten?"
   ]
  }
 ],
 "metadata": {
  "kernelspec": {
   "display_name": "Python 3",
   "language": "python",
   "name": "python3"
  },
  "language_info": {
   "codemirror_mode": {
    "name": "ipython",
    "version": 3
   },
   "file_extension": ".py",
   "mimetype": "text/x-python",
   "name": "python",
   "nbconvert_exporter": "python",
   "pygments_lexer": "ipython3",
   "version": "3.5.0"
  }
 },
 "nbformat": 4,
 "nbformat_minor": 0
}
